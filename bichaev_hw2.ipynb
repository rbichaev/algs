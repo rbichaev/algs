{
 "cells": [
  {
   "cell_type": "markdown",
   "metadata": {},
   "source": [
    "# Алгоритмы интеллектуальной обработки больших объемов данных\n",
    "## Домашнее задание №2: Линейные модели\n"
   ]
  },
  {
   "cell_type": "markdown",
   "metadata": {},
   "source": [
    "###### <hr\\>\n",
    "**Общая информация**\n",
    "\n",
    "**Срок сдачи:** 24 марта 18:00 Сдача **очная** на занятии. <br\\>\n",
    "\n",
    "\n",
    "Используйте данный Ipython Notebook при оформлении домашнего задания.\n",
    "\n",
    "**Штрафные баллы:**\n",
    "\n",
    "1. Невыполнение PEP8 -1 балл\n",
    "2. Отсутствие фамилии в имени скрипта (скрипт должен называться по аналогии со stroykova_hw2.ipynb) -1 балл\n",
    "3. Все строчки должны быть выполнены. Нужно, чтобы output команды можно было увидеть уже в git'е. В противном случае -1 балл\n",
    "4. При оформлении ДЗ нужно пользоваться данным файлом в качестве шаблона. Не нужно удалять и видоизменять написанный код и текст, если явно не указана такая возможность. В противном случае -1 балл\n",
    "<hr\\>"
   ]
  },
  {
   "cell_type": "code",
   "execution_count": 1,
   "metadata": {},
   "outputs": [],
   "source": [
    "import pandas as pd\n",
    "import numpy as np\n",
    "import matplotlib.pyplot as plt\n",
    "\n",
    "%matplotlib inline\n",
    "\n",
    "plt.style.use('ggplot')\n",
    "plt.rcParams['figure.figsize'] = (12,5)"
   ]
  },
  {
   "cell_type": "markdown",
   "metadata": {},
   "source": [
    "Здравствуйте, уважаемые студенты! \n",
    "\n",
    "В этом задании мы будем реализовать линейные модели. Необходимо реализовать линейную и логистическую регрессии с L2 регуляризацией"
   ]
  },
  {
   "cell_type": "markdown",
   "metadata": {},
   "source": [
    "# Теоретическое введение\n",
    "\n"
   ]
  },
  {
   "cell_type": "markdown",
   "metadata": {},
   "source": [
    "Линейная регрессия решает задачу регрессии и оптимизирует функцию потерь MSE \n",
    "\n",
    "$$L(w) =  \\frac{1}{N}\\left[\\sum_i (y_i - a_i) ^ 2 \\right], $$ где $y_i$ $-$ целевая функция,  $a_i = a(x_i) =  \\langle\\,x_i,w\\rangle ,$ $-$ предсказание алгоритма на объекте $x_i$, $w$ $-$ вектор весов (размерности $D$), $x_i$ $-$ вектор признаков (такой же размерности $D$).\n",
    "\n",
    "Не забываем, что здесь и далее  мы считаем, что в $x_i$ есть тождественный вектор единиц, ему соответствует вес $w_0$.\n"
   ]
  },
  {
   "cell_type": "markdown",
   "metadata": {},
   "source": [
    "Логистическая регрессия является линейным классификатором, который оптимизирует так называемый функционал log loss:"
   ]
  },
  {
   "cell_type": "markdown",
   "metadata": {},
   "source": [
    "$$L(w) = - \\frac{1}{N}\\left[\\sum_i y_i \\log a_i + ( 1 - y_i) \\log (1 - a_i) \\right],$$\n",
    "где  $y_i  \\in \\{0,1\\}$ $-$ метка класса, $a_i$ $-$ предсказание алгоритма на объекте $x_i$. Модель пытается предсказать апостериорую вероятность объекта принадлежать к классу \"1\":\n",
    "$$ p(y_i = 1 | x_i) = a(x_i) =  \\sigma( \\langle\\,x_i,w\\rangle ),$$\n",
    "$w$ $-$ вектор весов (размерности $D$), $x_i$ $-$ вектор признаков (такой же размерности $D$).\n",
    "\n",
    "Функция $\\sigma(x)$ $-$ нелинейная функция, пероводящее скалярное произведение объекта на веса в число $\\in (0,1)$ (мы же моделируем вероятность все-таки!)\n",
    "\n",
    "$$\\sigma(x) = \\frac{1}{1 + \\exp(-x)}$$\n",
    "\n",
    "Если внимательно посмотреть на функцию потерь, то можно заметить, что в зависимости от правильного ответа алгоритм штрафуется или функцией $-\\log a_i$, или функцией $-\\log (1 - a_i)$.\n",
    "\n"
   ]
  },
  {
   "cell_type": "markdown",
   "metadata": {},
   "source": [
    "Часто для решения проблем, которые так или иначе связаны с проблемой переобучения, в функционал качества добавляют слагаемое, которое называют ***регуляризацией***. Итоговый функционал для линейной регрессии тогда принимает вид:\n",
    "\n",
    "$$L(w) =  \\frac{1}{N}\\left[\\sum_i (y_i - a_i) ^ 2 \\right] + \\frac{1}{C}R(w) $$\n",
    "\n",
    "Для логистической: \n",
    "$$L(w) = - \\frac{1}{N}\\left[\\sum_i y_i \\log a_i + ( 1 - y_i) \\log (1 - a_i) \\right] +  \\frac{1}{C}R(w)$$\n",
    "\n",
    "Самое понятие регуляризации введено основателем ВМК академиком Тихоновым https://ru.wikipedia.org/wiki/Метод_регуляризации_Тихонова\n",
    "\n",
    "Идейно методика регуляризации заключается в следующем $-$ мы рассматриваем некорректно поставленную задачу (что это такое можно найти в интернете), для того чтобы сузить набор различных вариантов (лучшие из которых будут являться переобучением ) мы вводим дополнительные ограничения на множество искомых решений. На лекции Вы уже рассмотрели два варианта регуляризации.\n",
    "\n",
    "$L1$ регуляризация:\n",
    "$$R(w) = \\sum_{j=1}^{D}|w_j|$$\n",
    "$L2$ регуляризация:\n",
    "$$R(w) =  \\sum_{j=1}^{D}w_j^2$$\n",
    "\n",
    "С их помощью мы ограничиваем модель в  возможности выбора каких угодно весов минимизирующих наш лосс, модель уже не сможет подстроиться под данные как ей угодно. \n",
    "\n",
    "Вам нужно добавить соотвествущую Вашему варианту $L2$ регуляризацию.\n",
    "\n",
    "И так, мы поняли, какую функцию ошибки будем минимизировать, разобрались, как получить предсказания по объекту и обученным весам. Осталось разобраться, как получить оптимальные веса. Для этого нужно выбрать какой-то метод оптимизации.\n",
    "\n"
   ]
  },
  {
   "cell_type": "markdown",
   "metadata": {},
   "source": [
    "Градиентный спуск является самым популярным алгоритмом обучения линейных моделей. В этом задании Вам предложат реализовать стохастический градиентный спуск или  мини-батч градиентный спуск (мини-батч на русский язык довольно сложно перевести, многие переводят это как \"пакетный\", но мне не кажется этот перевод удачным). Далее нам потребуется определение **эпохи**.\n",
    "Эпохой в SGD и MB-GD называется один проход по **всем** объектам в обучающей выборки.\n",
    "* В SGD градиент расчитывается по одному случайному объекту. Сам алгоритм выглядит примерно так:\n",
    "        1) Перемешать выборку\n",
    "        2) Посчитать градиент функции потерь на одном объекте (далее один объект тоже будем называть батчем)\n",
    "        3) Сделать шаг спуска\n",
    "        4) Повторять 2) и 3) пока не пройдет максимальное число эпох.\n",
    "* В Mini Batch SGD - по подвыборке объектов. Сам алгоритм выглядит примерно так::\n",
    "        1) Перемешать выборку, выбрать размер мини-батча (от 1 до размера выборки)\n",
    "        2) Почитать градиент функции потерь по мини-батчу (не забыть поделить на  число объектов в мини-батче)\n",
    "        3) Сделать шаг спуска\n",
    "        4) Повторять 2) и 3) пока не пройдет максимальное число эпох.\n",
    "* Для отладки алгоритма реализуйте возможность  вывода средней ошибки на обучении модели по объектам (мини-батчам). После шага градиентного спуска посчитайте значение ошибки на объекте (или мини-батче), а затем усредните, например, по ста шагам. Если обучение проходит корректно, то мы должны увидеть, что каждые 100 шагов функция потерь уменьшается. \n",
    "* Правило останова - максимальное количество эпох\n",
    "    \n"
   ]
  },
  {
   "cell_type": "markdown",
   "metadata": {},
   "source": [
    "# Теоретические вопросы (2 балла)\n",
    "В этой части Вам будут предложены теоретичские вопросы и задачи по теме. Вы, конечно, можете списать их у своего товарища или найти решение в интернете, но учтите, что они обязательно войдут в теоретический коллоквиум. Лучше разобраться в теме сейчас и успешно ответить на коллоквиуме, чем списать, не разобравшись в материале, и быть терзаемым совестью. \n",
    "\n",
    "\n",
    "Формулы надо оформлять в формате **LaTeX**."
   ]
  },
  {
   "cell_type": "markdown",
   "metadata": {},
   "source": [
    "Задача 1. Градиент для линейной регрессии.\n",
    "* Выпишите формулу обновления весов для линейной регрессии с L2 регуляризацией для мини-батч градиентого спуска размера $n$:\n",
    "\n",
    "$$ w_{new} = w_{old} - ... $$\n",
    "\n",
    " Отнеситесь к этому пункту максимально серьезно, это Вам нужно будет реализовать в задании.\n",
    " \n",
    "Проанализруйте итоговую формулу градиента - как  интуитивно можно  описать, чему равен градиент?\n",
    "\n"
   ]
  },
  {
   "cell_type": "markdown",
   "metadata": {},
   "source": [
    "**Ответ:**$$ w_{new} = w_{old} - \\frac{\\alpha}{n}\\sum_{i=1}^{n}\\left(y_{i} - x_{i}\\cdot w_{old}\\right) x_{i} - \\frac{\\alpha}{C} w_{old} $$\n",
    "\n",
    "Интуитивно градиент - это направление наискорейшего роста, соответственно когда мы идем в сторону антиградиента, мы наискорейшим образом меняем аргумент функционала качества так, чтобы минимизировать его."
   ]
  },
  {
   "cell_type": "markdown",
   "metadata": {},
   "source": [
    "Задача 2. Градиент для логистической регрессии.\n",
    "* Выпишите формулу обновления весов для логистической регрессии с L2 регуляризацией  для мини-батч градиентого спуска размера $n$:\n",
    "\n",
    "$$ w_{new} = w_{old} - ... $$\n",
    "\n",
    " Отнеситесь к этому пункту максимально серьезно, это Вам нужно будет реализовать в задании.\n",
    " \n",
    "Проанализруйте итоговую формулу градиента - как  интуитивно можно  описать, чему равен градиент? Как соотносится этот градиент с градиентом, возникающий в задаче линейной регрессии?\n",
    "\n",
    "Подсказка: Вам градиент, которой получается если “в лоб” продифференцировать,  надо немного преобразовать.\n",
    "Надо подставить, что $1 - \\sigma(w,x) $ это  $1 - a(x_i)$, а  $-\\sigma(w,x)$ это $0 - a(x_i)$.  Тогда получится свести к одной красивой формуле с линейной регрессией, которую программировать будет намного проще."
   ]
  },
  {
   "cell_type": "markdown",
   "metadata": {},
   "source": [
    "**Ответ:**$$ w_{new} = w_{old} + \\frac{\\alpha}{n} \\sum_{i=1}^{n} \\big(y_{i} - \\sigma(x_{i} \\cdot w_{old}) \\big) x_{i} - \\frac{\\alpha}{C} w_{old} $$"
   ]
  },
  {
   "cell_type": "markdown",
   "metadata": {},
   "source": [
    "Задача 3. Точное решение линейной регрессии\n",
    "\n",
    "На лекции было показано, что точное решение линейной регрессии имеет вид $w = (X^TX)^{-1}X^TY $. \n",
    "* Покажите, что это действительно является точкой минимума в случае, если матрица X имеет строк не меньше, чем столбцов и имеет полный ранг. Подсказка: посчитайте Гессиан и покажите, что в этом случае он положительно определен. \n",
    "* Выпишите точное решение для модели с $L2$ регуляризацией. Как L2 регуляризация помогает с точным решением где матрица X имеет линейно зависимые признаки?"
   ]
  },
  {
   "cell_type": "markdown",
   "metadata": {},
   "source": [
    "**Ответ:** \n",
    "\n",
    "(1) Из лекции известно, что\n",
    "\n",
    "$$ \\nabla_w Q(w) = \\frac{2}{N}(X^T X w - X^T y). $$\n",
    "\n",
    "Нужно взять еще раз производную (получится Гессиан) и показать, что он положительно определен\n",
    "\n",
    "$$ \\nabla_w \\left( \\frac{2}{N}(X^T X w - X^T y) \\right) = \\frac{2}{N} X^T X. $$\n",
    "\n",
    "Осталось показать, что $ \\forall $ вектора $ v \\neq 0 $ верно $ v^T X^T X v > 0. $ Это эквивалентно $ (Xv)^T Xv > 0. $\n",
    "\n",
    "А это есть скалярное произведение вектора $ Xv $ на себя же, то есть $ (Xv,\\ Xv). $\n",
    "\n",
    "По свойству скалярного произведения $ (Xv,\\ Xv) \\geq 0 $ и $ (Xv,\\ Xv) = 0 \\Leftrightarrow Xv = 0. $\n",
    "\n",
    "Но так как матрица $ X $ имеет строчек не больше чем столбцов и имеет полный ранг, то $ Xv \\neq 0,\\ v \\neq 0. $\n",
    "\n",
    "Значит, $ (Xv,\\ Xv) > 0 $. Это доказывает, что найденное решение является точкой минимума.\n",
    "\n",
    "(2) С добавлением регуляризации функционал качества примет вид\n",
    "\n",
    "$$ Q(w) = \\frac{2}{N} (Xw - y)^T (Xw - y) + \\frac{1}{C} w^T w. $$\n",
    "\n",
    "Возьмем градиент\n",
    "\n",
    "$$ \\nabla_w Q(w) = \\frac{2}{N}(X^T X w - X^T y) + \\frac{2}{C} w. $$\n",
    "\n",
    "Решая уравнение $ \\nabla_w Q(w) = 0 $, получим\n",
    "\n",
    "$$ \\frac{1}{N}(X^T X w - X^T y) + \\frac{1}{C} w = 0, $$\n",
    "\n",
    "$$ \\left( \\frac{1}{N} X^T X + \\frac{1}{C} I \\right) w = X^T y, $$ где $ I $ - единичная матрица.\n",
    "\n",
    "Тогда \n",
    "$$ w = \\left( \\frac{1}{N} X^T X + \\frac{1}{C} I \\right)^{-1} X^T y. $$\n",
    "\n",
    "Если матрица $ X $ имеет линейно зависимые признаки, то матрица $ X^T X $ может быть плохо обусловленной (то есть плохо обратимой) и $ rank(X) = rank(X^T X). $ Тогда при добавлении регуляризации приходится обращать не $ X^T X $, а $ \\frac{1}{N} X^T X + \\frac{1}{C} I $. То есть регуляризация помогает обратить матрицу."
   ]
  },
  {
   "cell_type": "markdown",
   "metadata": {},
   "source": [
    "Задача 4.  Предсказываем вероятности.\n",
    "\n",
    "Когда говорят о логистической регрессии, произносят фразу, что она \"предсказывает вероятности положительного класса\". Давайте разберемся, что же за этим стоит. Посчитаем математическое ожидание функции потерь и проверим, что предсказание алгоритма, оптимизирующее это мат. ожидание, будет являться вероятностью положительного класса. \n",
    "\n",
    "Итак, функция потерь на объекте $x_i$, который имеет метку $y_i \\in \\{0,1\\}$  для предсказания $a(x_i)$ равна:\n",
    "$$L(y_i, b) =-[y_i == 1] \\log a(x_i)  - [y_i == 0] \\log(1 - a(x_i)) $$\n",
    "\n",
    "Где $[]$ означает индикатор $-$ он равен единице, если значение внутри него истинно, иначе он равен нулю. Тогда мат. ожидание при условии конкретного $x_i$  по определение мат. ожидания дискретной случайной величины:\n",
    "$$E(L | x_i) = -p(y_i = 1 |x_i ) \\log a(x_i)  - p(y_i = 0 | x_i) \\log( 1 - a(x_i))$$\n",
    "* Докажите, что значение $a(x_i)$, минимизирующее данное мат. ожидание, в точности равно $p(y_i = 1 |x_i)$, то есть равно вероятности положительного класса.\n",
    "\n",
    "Подсказка: возможно, придется воспользоваться, что  $p(y_i = 1 | x_i) + p(y_i = 0 | x_i) = 1$"
   ]
  },
  {
   "cell_type": "markdown",
   "metadata": {},
   "source": [
    "**Ответ:**\n",
    "\n",
    "Чтобы минимизировать мат. ожидание, приравняем нулю ее производную\n",
    "\n",
    "$$ E'(L|x_i) = -p(y_i = 1 | x_i)(1 - a(x_i)) x_i + p(y_i = 0) a(x_i) x_i = 0. $$\n",
    "\n",
    "Тогда\n",
    "\n",
    "$$ -p(y_i = 1 | x_i) + a(x_i)(p(y_i = 1 | x_i) + p(y_i = 0 | x_i)) = 0, $$\n",
    "\n",
    "$$ a(x_i) = p(y_i = 1 | x_i). $$"
   ]
  },
  {
   "cell_type": "markdown",
   "metadata": {},
   "source": [
    "Задача 5.  Смысл регуляризации.\n",
    "\n",
    "Нужно ли в L1/L2 регуляризации использовать свободный член $w_0$ (который не умножается ни на какой признак)?\n",
    "\n",
    "Подсказка: подумайте, для чего мы вводим $w_0$"
   ]
  },
  {
   "cell_type": "markdown",
   "metadata": {},
   "source": [
    "**Ответ:** не нужно, так как мы вводим свободный член для учета общего сдвига, то есть для ситуаций, когда при равенстве нулю всех признаков, целевая функция не равна нулю. **А это число не должно зависеть от степени влияния каждого отдельного признака**, то есть от величины абсолютного значения других весов. Добавив же его в регулиризацию, мы установим такую зависимость, что приведет к уменьшению его абсолютного значения."
   ]
  },
  {
   "cell_type": "markdown",
   "metadata": {},
   "source": [
    "#  Реализация линейной модели (4 балла)"
   ]
  },
  {
   "cell_type": "markdown",
   "metadata": {},
   "source": [
    "## Зачем нужны батчи?\n"
   ]
  },
  {
   "cell_type": "markdown",
   "metadata": {},
   "source": [
    "Как Вы могли заметить из теоретического введения, что в случае SGD, что в случа mini-batch GD,  на каждой итерации обновление весов  происходит только по небольшой части данных (1 пример в случае SGD, batch примеров в случае mini-batch). То есть для каждой итерации нам *** не нужна вся выборка***. Мы можем просто итерироваться по выборке, беря батч нужного размера (далее 1 объект тоже будем называть батчом).\n",
    "\n",
    "Легко заметить, что в этом случае нам не нужно загружать все данные в оперативную память, достаточно просто считать батч с диска, обновить веса, считать диска другой батч и так далее. В целях упрощения домашней работы, прямо с диска  мы считывать не будем, будем работать с обычными numpy array. \n",
    "\n",
    "\n",
    "\n"
   ]
  },
  {
   "cell_type": "markdown",
   "metadata": {},
   "source": [
    "## Немножко про генераторы в Python\n",
    "\n"
   ]
  },
  {
   "cell_type": "markdown",
   "metadata": {},
   "source": [
    "Идея считывания данных кусками удачно ложится на так называемые ***генераторы*** из языка Python. В данной работе Вам предлагается не только разобраться с логистической регрессией, но  и познакомиться с таким важным элементом языка.  При желании Вы можете убрать весь код, связанный с генераторами, и реализовать логистическую регрессию и без них, ***штрафоваться это никак не будет***. Главное, чтобы сама модель была реализована правильно, и все пункты были выполнены. \n",
    "\n",
    "Подробнее можно почитать вот тут https://anandology.com/python-practice-book/iterators.html\n"
   ]
  },
  {
   "cell_type": "markdown",
   "metadata": {},
   "source": [
    "К генератору стоит относиться просто как к функции, которая порождает не один объект, а целую последовательность объектов. Новое значение из последовательности генерируется с помощью ключевого слова ***yield***. Ниже Вы можете насладиться  генератором чисел Фибоначчи."
   ]
  },
  {
   "cell_type": "code",
   "execution_count": 2,
   "metadata": {},
   "outputs": [],
   "source": [
    "def fib(max_iter=4):\n",
    "    a, b = 0, 1\n",
    "    iter_num = 0\n",
    "    while 1:\n",
    "        yield a\n",
    "        a, b = b, a + b\n",
    "        iter_num += 1\n",
    "        if iter_num == max_iter:\n",
    "            break"
   ]
  },
  {
   "cell_type": "markdown",
   "metadata": {},
   "source": [
    "Вот так можно сгенерировать последовательность Фибоначчи. \n",
    "\n",
    "Заметьте, что к генераторам можно применять некоторые стандартные функции из Python, например enumerate."
   ]
  },
  {
   "cell_type": "code",
   "execution_count": 3,
   "metadata": {},
   "outputs": [
    {
     "name": "stdout",
     "output_type": "stream",
     "text": [
      "Fib num: 0 fib values: 0\n",
      "Fib num: 1 fib values: 1\n",
      "Fib num: 2 fib values: 1\n",
      "Fib num: 3 fib values: 2\n"
     ]
    }
   ],
   "source": [
    "new_generator = fib()\n",
    "for j, fib_val in enumerate(new_generator):\n",
    "    print (\"Fib num: \" + str(j) + \" fib values: \" + str(fib_val))"
   ]
  },
  {
   "cell_type": "markdown",
   "metadata": {},
   "source": [
    "Пересоздавая объект, можно сколько угодно раз генерировать заново последовательность. "
   ]
  },
  {
   "cell_type": "code",
   "execution_count": 4,
   "metadata": {},
   "outputs": [
    {
     "name": "stdout",
     "output_type": "stream",
     "text": [
      "Fib num: 0 fib values: 0\n",
      "Fib num: 1 fib values: 1\n",
      "Fib num: 2 fib values: 1\n",
      "Fib num: 3 fib values: 2\n",
      "Fib num: 0 fib values: 0\n",
      "Fib num: 1 fib values: 1\n",
      "Fib num: 2 fib values: 1\n",
      "Fib num: 3 fib values: 2\n",
      "Fib num: 0 fib values: 0\n",
      "Fib num: 1 fib values: 1\n",
      "Fib num: 2 fib values: 1\n",
      "Fib num: 3 fib values: 2\n"
     ]
    }
   ],
   "source": [
    "for i in range(0, 3):\n",
    "    new_generator = fib()\n",
    "    for j, fib_val in enumerate(new_generator):\n",
    "        print (\"Fib num: \" + str(j) + \" fib values: \" + str(fib_val))"
   ]
  },
  {
   "cell_type": "markdown",
   "metadata": {},
   "source": [
    "А вот так уже нельзя."
   ]
  },
  {
   "cell_type": "code",
   "execution_count": 5,
   "metadata": {},
   "outputs": [
    {
     "name": "stdout",
     "output_type": "stream",
     "text": [
      "Fib num: 0 fib values: 0\n",
      "Fib num: 1 fib values: 1\n",
      "Fib num: 2 fib values: 1\n",
      "Fib num: 3 fib values: 2\n"
     ]
    }
   ],
   "source": [
    "new_generator = fib()\n",
    "for i in range(0, 3):\n",
    "    for j, fib_val in enumerate(new_generator):\n",
    "        print (\"Fib num: \" + str(j) + \" fib values: \" + str(fib_val))"
   ]
  },
  {
   "cell_type": "markdown",
   "metadata": {},
   "source": [
    "Концепция крайне удобная для обучения  моделей $-$ у Вас есть некий источник данных, который Вам выдает их кусками, и Вам совершенно все равно откуда он их берет. Под ним может скрывать как массив в оперативной памяти, как файл на жестком диске, так и SQL база данных. Вы сами данные никуда не сохраняете, оперативную память экономите."
   ]
  },
  {
   "cell_type": "markdown",
   "metadata": {},
   "source": [
    "Если Вам понравилась идея с генераторами, то Вы можете реализовать свой, используя прототип batch_generator. В нем Вам нужно выдавать батчи признаков и ответов для каждой новой итерации спуска. Если не понравилась идея, то можете реализовывать SGD или mini-batch GD без генераторов."
   ]
  },
  {
   "cell_type": "code",
   "execution_count": 6,
   "metadata": {},
   "outputs": [],
   "source": [
    "def batch_generator(X, y, shuffle=True, batch_size=1):\n",
    "    \"\"\"\n",
    "    Гератор новых батчей для обучения\n",
    "    X          - матрица объекты-признаки\n",
    "    y_batch    - вектор ответов\n",
    "    shuffle    - нужно ли случайно перемешивать выборку\n",
    "    batch_size - размер батча ( 1 это SGD, > 1 mini-batch GD)\n",
    "    Генерирует подвыборку для итерации спуска (X_batch, y_batch)\n",
    "    \"\"\"\n",
    "    \n",
    "#     переводим в формат numpy на случай, если данные поданы в формате list\n",
    "    X = np.asarray(X)\n",
    "    y = np.asarray(y)\n",
    "    \n",
    "#     перемешиваем данные, если это требуется\n",
    "    perm = np.arange(len(X))\n",
    "    \n",
    "    if shuffle == True:\n",
    "        perm = np.random.permutation(len(X))\n",
    "        \n",
    "    X = X[perm]\n",
    "    y = y[perm]\n",
    "    \n",
    "#     считаем число батчей\n",
    "    num_of_batches = len(X) // batch_size\n",
    "    \n",
    "    if len(X) % batch_size != 0:\n",
    "        num_of_batches += 1\n",
    "        \n",
    "#     возвращаем значения\n",
    "    for i in range(num_of_batches):\n",
    "        X_batch = X[i * batch_size:(i+1) * batch_size]\n",
    "        y_batch = y[i * batch_size:(i+1) * batch_size]\n",
    "        yield (X_batch, y_batch)"
   ]
  },
  {
   "cell_type": "code",
   "execution_count": 7,
   "metadata": {},
   "outputs": [],
   "source": [
    "#%%pycodestyle\n",
    "\n",
    "def sigmoid(X):\n",
    "    \"\"\"\n",
    "    Вычисляем значение сигмоида.\n",
    "    X - выход линейной модели\n",
    "    \"\"\"\n",
    "    \n",
    "    sigm_value_x = 1/(1 + np.exp(-X))\n",
    "    return sigm_value_x\n",
    "\n",
    "\n",
    "from sklearn.base import BaseEstimator, ClassifierMixin\n",
    "\n",
    "class MySGDClassifier(BaseEstimator, ClassifierMixin):\n",
    "    \n",
    "    def __init__(self, batch_generator, C=1, alpha=0.01, batch_size=1, max_epoch=10, model_type='lin_reg'):\n",
    "        \"\"\"\n",
    "        batch_generator -- функция генератор, которой будем создавать батчи\n",
    "        C - коэф. регуляризации\n",
    "        alpha - скорость спуска\n",
    "        max_epoch - максимальное количество эпох\n",
    "        model_type - тим модели, lin_reg или log_reg\n",
    "        \"\"\"\n",
    "        \n",
    "        self.C = C\n",
    "        self.alpha = alpha\n",
    "        self.batch_size = batch_size\n",
    "        self.max_epoch = max_epoch\n",
    "        self.batch_generator = batch_generator\n",
    "        self.errors_log = {'iter' : [], 'loss' : []}  \n",
    "        self.model_type = model_type\n",
    "        \n",
    "    def calc_loss(self, X_batch, y_batch):\n",
    "        \"\"\"\n",
    "        Считаем функцию потерь по батчу \n",
    "        X_batch - матрица объекты-признаки по батчу\n",
    "        y_batch - вектор ответов по батчу\n",
    "        Не забудте тип модели (линейная или логистическая регрессия)!\n",
    "        \"\"\"\n",
    "\n",
    "        if self.model_type == 'lin_reg':\n",
    "            loss = ((self.predict(X_batch) - y_batch)**2).sum() / X_batch.shape[0]\n",
    "            loss += np.dot(self.weights[1:], self.weights[1:]) / self.C\n",
    "                    \n",
    "        else:\n",
    "            pred = self.predict(X_batch)\n",
    "            loss = - (y_batch*np.log2(pred) + (1-y_batch)*np.log2(1-pred)).sum()\n",
    "            loss /= X_batch.shape[0]\n",
    "            loss += np.dot(self.weights[1:], self.weights[1:]) / self.C                    \n",
    "        \n",
    "        return loss\n",
    "    \n",
    "    def calc_loss_grad(self, X_batch, y_batch):\n",
    "        \"\"\"\n",
    "        Считаем  градиент функции потерь по батчу (то что Вы вывели в задании 1)\n",
    "        X_batch - матрица объекты-признаки по батчу\n",
    "        y_batch - вектор ответов по батчу\n",
    "        Не забудте тип модели (линейная или логистическая регрессия)!\n",
    "        \"\"\"\n",
    "        \n",
    "        if self.model_type == 'lin_reg':\n",
    "            loss_grad = 2*((self.predict(X_batch) - y_batch).reshape(-1,1)*X_batch).sum(axis=0)\n",
    "            loss_grad /= X_batch.shape[0]\n",
    "            loss_grad += 2*np.concatenate(([0], self.weights[1:])) / self.C\n",
    "                         \n",
    "        else:\n",
    "            pred = self.predict(X_batch)\n",
    "            loss_grad = - ((y_batch - pred).reshape(-1,1)*X_batch).sum(axis=0)\n",
    "            loss_grad /= np.log(2)*X_batch.shape[0]\n",
    "            loss_grad += 2*np.concatenate(([0], self.weights[1:])) / self.C\n",
    "        \n",
    "        return loss_grad\n",
    "    \n",
    "    def update_weights(self, new_grad):\n",
    "        \"\"\"\n",
    "        Обновляем вектор весов\n",
    "        new_grad - градиент по батчу\n",
    "        \"\"\"\n",
    "        \n",
    "        self.weights = self.weights - self.alpha*new_grad\n",
    "    \n",
    "    def fit(self, X, y):\n",
    "        '''\n",
    "        Обучение модели\n",
    "        X - матрица объекты-признаки\n",
    "        y - вектор ответов\n",
    "        '''\n",
    "        \n",
    "        X = np.c_[np.ones(X.shape[0]), X]\n",
    "        np.random.seed(55)\n",
    "        self.weights = np.random.normal(0,1,size=X.shape[1])\n",
    "        for n in range(0, self.max_epoch):\n",
    "            new_epoch_generator = self.batch_generator(X, y, batch_size=self.batch_size)\n",
    "            for batch_num, new_batch in enumerate(new_epoch_generator):\n",
    "                X_batch = new_batch[0]\n",
    "                y_batch = new_batch[1]\n",
    "                batch_grad = self.calc_loss_grad(X_batch, y_batch)\n",
    "                self.update_weights(batch_grad)\n",
    "                batch_loss = self.calc_loss(X_batch, y_batch)\n",
    "                self.errors_log['iter'].append(batch_num)\n",
    "                self.errors_log['loss'].append(batch_loss)\n",
    "                \n",
    "        return self\n",
    "        \n",
    "    def predict(self, X):\n",
    "        '''\n",
    "        Предсказание класса\n",
    "        X - матрица объекты-признаки\n",
    "        Не забудте тип модели (линейная или логистическая регрессия)!\n",
    "        '''\n",
    "        \n",
    "        if self.model_type == 'lin_reg':\n",
    "            y_hat = np.dot(X, self.weights)\n",
    "        else:\n",
    "            y_hat = sigmoid(np.dot(X, self.weights))\n",
    "        \n",
    "        return y_hat"
   ]
  },
  {
   "cell_type": "markdown",
   "metadata": {},
   "source": [
    "Запустите обе регрессии на синтетических данных. \n",
    "\n",
    "\n",
    "Выведите полученные веса и нарисуйте разделяющую границу между классами (используйте только первых два веса для первых двух признаков X[:,0], X[:,1] для отображения в 2d пространство ).  "
   ]
  },
  {
   "cell_type": "code",
   "execution_count": 8,
   "metadata": {},
   "outputs": [],
   "source": [
    "def plot_decision_boundary(X, y):\n",
    "    clf_lin = MySGDClassifier(batch_generator, C=2, alpha=0.01, \n",
    "                              batch_size=100, max_epoch=100, model_type='lin_reg')\n",
    "    clf_lin.fit(X, y)\n",
    "\n",
    "    clf_log = MySGDClassifier(batch_generator, C=2, alpha=0.01, \n",
    "                              batch_size=100, max_epoch=100, model_type='log_reg')\n",
    "    clf_log.fit(X, y)\n",
    "\n",
    "    def foo_lin(args):\n",
    "        return - (clf_lin.weights[0] - 0.5 + args*clf_lin.weights[1]) / clf_lin.weights[2]\n",
    "\n",
    "    def foo_log(args):\n",
    "        return - (clf_log.weights[0] + args*clf_log.weights[1]) / clf_log.weights[2]\n",
    "\n",
    "    args_lin = np.linspace(0, 6, 100)\n",
    "    args_log = np.linspace(1, 5, 100)\n",
    "\n",
    "    res_lin = foo_lin(args_lin)\n",
    "    plt.plot(args_lin, res_lin, label='lin regression')\n",
    "\n",
    "    res_log = foo_log(args_log)\n",
    "    plt.plot(args_log, res_log, label='log regression')\n",
    "\n",
    "    plt.legend()"
   ]
  },
  {
   "cell_type": "code",
   "execution_count": 9,
   "metadata": {},
   "outputs": [
    {
     "data": {
      "text/plain": [
       "<matplotlib.collections.PathCollection at 0x7feac842a390>"
      ]
     },
     "execution_count": 9,
     "metadata": {},
     "output_type": "execute_result"
    },
    {
     "data": {
      "image/png": "[encoded data removed]",
      "text/plain": [
       "<Figure size 576x576 with 1 Axes>"
      ]
     },
     "metadata": {},
     "output_type": "display_data"
    }
   ],
   "source": [
    "np.random.seed(0)\n",
    "\n",
    "fig = plt.figure(figsize=(8,8))\n",
    "\n",
    "C1 = np.array([[0., -0.8], [1.5, 0.8]])\n",
    "C2 = np.array([[1., -0.7], [2., 0.7]])\n",
    "gauss1 = np.dot(np.random.randn(200, 2) + np.array([5, 3]), C1)\n",
    "gauss2 = np.dot(np.random.randn(200, 2) + np.array([1.5, 0]), C2)\n",
    "\n",
    "X = np.vstack([gauss1, gauss2])\n",
    "y = np.r_[np.ones(200), np.zeros(200)]\n",
    "\n",
    "plot_decision_boundary(X, y)\n",
    "\n",
    "plt.scatter(X[:,0], X[:,1], c=y)"
   ]
  },
  {
   "cell_type": "markdown",
   "metadata": {},
   "source": [
    "Далее будем анализировать Ваш алгоритм. \n",
    "Для этих заданий используйте датасет ниже."
   ]
  },
  {
   "cell_type": "code",
   "execution_count": 10,
   "metadata": {},
   "outputs": [],
   "source": [
    "from sklearn.datasets import make_classification"
   ]
  },
  {
   "cell_type": "code",
   "execution_count": 11,
   "metadata": {},
   "outputs": [],
   "source": [
    "X, y = make_classification(n_samples=100000, n_features=10, \n",
    "                           n_informative=4, n_redundant=0, \n",
    "                           random_state=123, class_sep=1.0,\n",
    "                           n_clusters_per_class=1)"
   ]
  },
  {
   "cell_type": "markdown",
   "metadata": {},
   "source": [
    "Покажите сходимости обеих регрессией на этом датасете: изобразите график  функции потерь, усредненной по $N$ шагам градиентого спуска, для разных `alpha` (размеров шага). Разные `alpha` расположите на одном графике. \n",
    "\n",
    "$N$ можно брать 10, 50, 100 и т.д. "
   ]
  },
  {
   "cell_type": "code",
   "execution_count": 12,
   "metadata": {},
   "outputs": [
    {
     "data": {
      "text/plain": [
       "<matplotlib.legend.Legend at 0x7feac4cac320>"
      ]
     },
     "execution_count": 12,
     "metadata": {},
     "output_type": "execute_result"
    },
    {
     "data": {
      "image/png": "[encoded data removed]",
      "text/plain": [
       "<Figure size 1008x576 with 1 Axes>"
      ]
     },
     "metadata": {},
     "output_type": "display_data"
    }
   ],
   "source": [
    "fig = plt.figure(figsize=(14,8))\n",
    "\n",
    "alphas = [5, 2, 1, 0.1, 0.01, 0.001, 0.0000001]\n",
    "for alpha in alphas:\n",
    "    clsf_lin = MySGDClassifier(batch_generator, C=2, alpha=0.01, \n",
    "                               batch_size=10000, max_epoch=10, model_type='lin_reg')\n",
    "    clsf_lin.fit(X, y)\n",
    "    mean_loss = []\n",
    "    for i in range(len(clsf_lin.errors_log['loss'])//10):\n",
    "        mean_loss.append(np.array(clsf_lin.errors_log['loss'][10*i:10*(i+1)]).mean())\n",
    "    plt.plot(np.arange(len(mean_loss)), mean_loss, label='alpha = ' + str(alpha))\n",
    "\n",
    "plt.xlabel('Num of batch')\n",
    "plt.ylabel('Loss')\n",
    "plt.title('Linear regression')\n",
    "plt.legend()"
   ]
  },
  {
   "cell_type": "code",
   "execution_count": 13,
   "metadata": {},
   "outputs": [
    {
     "data": {
      "text/plain": [
       "<matplotlib.legend.Legend at 0x7feac4c56ba8>"
      ]
     },
     "execution_count": 13,
     "metadata": {},
     "output_type": "execute_result"
    },
    {
     "data": {
      "image/png": "[encoded data removed]",
      "text/plain": [
       "<Figure size 1008x576 with 1 Axes>"
      ]
     },
     "metadata": {},
     "output_type": "display_data"
    }
   ],
   "source": [
    "fig = plt.figure(figsize=(14,8))\n",
    "\n",
    "alphas = [5, 2, 1, 0.1, 0.01, 0.001, 0.0000001]\n",
    "for alpha in alphas:\n",
    "    clsf_log = MySGDClassifier(batch_generator, C=2, alpha=0.01, \n",
    "                               batch_size=10000, max_epoch=10, model_type='log_reg')\n",
    "    clsf_log.fit(X, y)\n",
    "    mean_loss = []\n",
    "    for i in range(len(clsf_log.errors_log['loss'])//10):\n",
    "        mean_loss.append(np.array(clsf_log.errors_log['loss'][10*i:10*(i+1)]).mean())\n",
    "    plt.plot(np.arange(len(mean_loss)), mean_loss, label='alpha = ' + str(alpha))\n",
    "    \n",
    "plt.xlabel('Num of batch')\n",
    "plt.ylabel('Loss')\n",
    "plt.title('Logistic regression')\n",
    "plt.legend()"
   ]
  },
  {
   "cell_type": "markdown",
   "metadata": {},
   "source": [
    "Что Вы можете сказать про сходимость метода при различных `alpha`? Какое значение стоит выбирать для лучшей сходимости?"
   ]
  },
  {
   "cell_type": "markdown",
   "metadata": {},
   "source": [
    "Изобразите график среднего значения весов для обеих регрессий в зависимости от коэф. регуляризации С из `np.logspace(3, -3, 10)` "
   ]
  },
  {
   "cell_type": "code",
   "execution_count": 14,
   "metadata": {},
   "outputs": [
    {
     "name": "stderr",
     "output_type": "stream",
     "text": [
      "/home/roman/.local/lib/python3.6/site-packages/numpy/core/_methods.py:38: RuntimeWarning: overflow encountered in reduce\n",
      "  return umr_sum(a, axis, dtype, out, keepdims, initial, where)\n",
      "/usr/lib/python3/dist-packages/ipykernel_launcher.py:43: RuntimeWarning: overflow encountered in square\n",
      "/usr/lib/python3/dist-packages/ipykernel_launcher.py:44: RuntimeWarning: overflow encountered in double_scalars\n",
      "/usr/lib/python3/dist-packages/ipykernel_launcher.py:63: RuntimeWarning: overflow encountered in multiply\n",
      "/home/roman/.local/lib/python3.6/site-packages/numpy/core/_methods.py:38: RuntimeWarning: invalid value encountered in reduce\n",
      "  return umr_sum(a, axis, dtype, out, keepdims, initial, where)\n",
      "/usr/lib/python3/dist-packages/ipykernel_launcher.py:81: RuntimeWarning: invalid value encountered in subtract\n",
      "/usr/lib/python3/dist-packages/ipykernel_launcher.py:65: RuntimeWarning: overflow encountered in true_divide\n"
     ]
    },
    {
     "data": {
      "text/plain": [
       "<matplotlib.legend.Legend at 0x7feac4d23d68>"
      ]
     },
     "execution_count": 14,
     "metadata": {},
     "output_type": "execute_result"
    },
    {
     "data": {
      "image/png": "[encoded data removed]",
      "text/plain": [
       "<Figure size 1008x576 with 1 Axes>"
      ]
     },
     "metadata": {},
     "output_type": "display_data"
    }
   ],
   "source": [
    "fig = plt.figure(figsize=(14,8))\n",
    "\n",
    "mean_weights_lin = []\n",
    "for C in np.logspace(3, -3, 10):\n",
    "    clsf_lin = MySGDClassifier(batch_generator, C=C, alpha=0.01, \n",
    "                               batch_size=1000, max_epoch=10, model_type='lin_reg')\n",
    "    clsf_lin.fit(X, y)\n",
    "    mean_weights_lin.append(np.array(clsf_lin.weights).mean())\n",
    "\n",
    "plt.plot(np.logspace(3, -3, 10), mean_weights_lin, '-o', label='lin reg')\n",
    "plt.xlabel('C values')\n",
    "plt.ylabel('Mean for weights')\n",
    "plt.legend()"
   ]
  },
  {
   "cell_type": "code",
   "execution_count": 15,
   "metadata": {},
   "outputs": [
    {
     "name": "stderr",
     "output_type": "stream",
     "text": [
      "/usr/lib/python3/dist-packages/ipykernel_launcher.py:48: RuntimeWarning: divide by zero encountered in log2\n",
      "/usr/lib/python3/dist-packages/ipykernel_launcher.py:48: RuntimeWarning: invalid value encountered in multiply\n",
      "/usr/lib/python3/dist-packages/ipykernel_launcher.py:9: RuntimeWarning: overflow encountered in exp\n",
      "  if __name__ == '__main__':\n",
      "/usr/lib/python3/dist-packages/ipykernel_launcher.py:50: RuntimeWarning: overflow encountered in double_scalars\n",
      "/usr/lib/python3/dist-packages/ipykernel_launcher.py:71: RuntimeWarning: overflow encountered in true_divide\n"
     ]
    },
    {
     "data": {
      "text/plain": [
       "<matplotlib.legend.Legend at 0x7feac4d23400>"
      ]
     },
     "execution_count": 15,
     "metadata": {},
     "output_type": "execute_result"
    },
    {
     "data": {
      "image/png": "[encoded data removed]",
      "text/plain": [
       "<Figure size 1008x576 with 1 Axes>"
      ]
     },
     "metadata": {},
     "output_type": "display_data"
    }
   ],
   "source": [
    "fig = plt.figure(figsize=(14,8))\n",
    "\n",
    "mean_weights_log = []\n",
    "for C in np.logspace(3, -3, 10):\n",
    "    clsf_log = MySGDClassifier(batch_generator, C=C, alpha=0.01, batch_size=1000, max_epoch=10, model_type='log_reg')\n",
    "    clsf_log.fit(X, y)\n",
    "    mean_weights_log.append(np.array(clsf_log.weights).mean())\n",
    "\n",
    "plt.plot(np.logspace(3, -3, 10), mean_weights_log, '-o', label='log reg')\n",
    "plt.xlabel('C values')\n",
    "plt.ylabel('Mean for weights')\n",
    "plt.legend()"
   ]
  },
  {
   "cell_type": "markdown",
   "metadata": {},
   "source": [
    "Довольны ли Вы, насколько сильно уменьшились Ваши веса? "
   ]
  },
  {
   "cell_type": "markdown",
   "metadata": {},
   "source": [
    "# Боевое применение (4  балла)\n",
    "\n",
    "**Защита данной части возможна только при преодолении в проекте бейзлайна Handmade baseline.**"
   ]
  },
  {
   "cell_type": "markdown",
   "metadata": {},
   "source": [
    "Давайте применим модель на итоговом проекте! Датасет сделаем точно таким же образом, как было показано в project_overview.ipynb\n",
    "\n",
    "Применим обе регрессии, подберем для них параметры и сравним качество. Может быть Вы еще одновременно с решением домашней работы подрастете на лидерборде!"
   ]
  },
  {
   "cell_type": "code",
   "execution_count": 16,
   "metadata": {},
   "outputs": [
    {
     "name": "stdout",
     "output_type": "stream",
     "text": [
      "28026\n"
     ]
    }
   ],
   "source": [
    "doc_to_title = {}\n",
    "with open('docs_titles.tsv') as f:\n",
    "    \n",
    "    for num_line, line in enumerate(f):\n",
    "        \n",
    "        if num_line == 0:\n",
    "            continue\n",
    "            \n",
    "        data = line.strip().split('\\t', 1)\n",
    "        doc_id = int(data[0])\n",
    "        \n",
    "        if len(data) == 1:\n",
    "            title = ''\n",
    "        else:\n",
    "            title = data[1]\n",
    "            \n",
    "        doc_to_title[doc_id] = title\n",
    "        \n",
    "print (len(doc_to_title))"
   ]
  },
  {
   "cell_type": "code",
   "execution_count": 17,
   "metadata": {},
   "outputs": [],
   "source": [
    "import pandas as pd\n",
    "\n",
    "train_data = pd.read_csv('train_groups.csv')\n",
    "traingroups_titledata = {}\n",
    "\n",
    "for i in range(len(train_data)):\n",
    "    new_doc = train_data.iloc[i]\n",
    "    doc_group = new_doc['group_id']\n",
    "    doc_id = new_doc['doc_id']\n",
    "    target = new_doc['target']\n",
    "    title = doc_to_title[doc_id]\n",
    "    \n",
    "    if doc_group not in traingroups_titledata:\n",
    "        traingroups_titledata[doc_group] = []\n",
    "        \n",
    "    traingroups_titledata[doc_group].append((doc_id, title, target))"
   ]
  },
  {
   "cell_type": "code",
   "execution_count": 18,
   "metadata": {},
   "outputs": [
    {
     "name": "stdout",
     "output_type": "stream",
     "text": [
      "(11690, 15) (11690,) (11690,)\n"
     ]
    }
   ],
   "source": [
    "import numpy as np\n",
    "y_train = []\n",
    "X_train = []\n",
    "groups_train = []\n",
    "\n",
    "for new_group in traingroups_titledata:\n",
    "    docs = traingroups_titledata[new_group]\n",
    "    \n",
    "    for k, (doc_id, title, target_id) in enumerate(docs):\n",
    "        y_train.append(target_id)\n",
    "        groups_train.append(new_group)\n",
    "        all_dist = []\n",
    "        words = set(title.strip().split())\n",
    "        \n",
    "        for j in range(0, len(docs)):\n",
    "            if k == j:\n",
    "                continue\n",
    "                \n",
    "            doc_id_j, title_j, target_j = docs[j]\n",
    "            words_j = set(title_j.strip().split())\n",
    "            all_dist.append(len(words.intersection(words_j)))\n",
    "            \n",
    "        X_train.append(sorted(all_dist, reverse=True)[0:15])\n",
    "        \n",
    "X_train = np.array(X_train)\n",
    "y_train = np.array(y_train)\n",
    "groups_train = np.array(groups_train)\n",
    "print (X_train.shape, y_train.shape, groups_train.shape)"
   ]
  },
  {
   "cell_type": "markdown",
   "metadata": {},
   "source": [
    "Подберите размер батча для обучения. Линейная модель не должна учиться дольше нескольких минут. \n",
    "\n",
    "Не забывайте использовать скейлер!"
   ]
  },
  {
   "cell_type": "code",
   "execution_count": 19,
   "metadata": {},
   "outputs": [],
   "source": [
    "from sklearn.metrics import f1_score, precision_score, recall_score\n",
    "from sklearn.linear_model import LinearRegression\n",
    "from sklearn.preprocessing import StandardScaler"
   ]
  },
  {
   "cell_type": "code",
   "execution_count": 20,
   "metadata": {},
   "outputs": [],
   "source": [
    "st_sc = StandardScaler()\n",
    "X_train = st_sc.fit_transform(X_train)"
   ]
  },
  {
   "cell_type": "code",
   "execution_count": 21,
   "metadata": {},
   "outputs": [
    {
     "data": {
      "text/plain": [
       "(0.6160667709963485, 100)"
      ]
     },
     "execution_count": 21,
     "metadata": {},
     "output_type": "execute_result"
    }
   ],
   "source": [
    "batch_sizes = [100, 250, 500, 750, 1000, 2000]\n",
    "best_score = 0\n",
    "best_batch_size = 100\n",
    "\n",
    "for batch_size in batch_sizes:\n",
    "    lin_regr = MySGDClassifier(batch_generator, C=0.1, alpha=0.05,\n",
    "                               batch_size=batch_size, max_epoch=10, model_type='lin_reg')\n",
    "    lin_regr.fit(X_train, y_train)\n",
    "    y_pred = lin_regr.predict(np.c_[np.ones(X_train.shape[0]), X_train])\n",
    "    y_pred[y_pred <= 0.5] = 0\n",
    "    y_pred[y_pred > 0.5] = 1\n",
    "    score = f1_score(y_pred, y_train)\n",
    "    \n",
    "    if score > best_score:\n",
    "        best_score = score\n",
    "        best_batch_size = batch_size\n",
    "        \n",
    "best_score, best_batch_size"
   ]
  },
  {
   "cell_type": "markdown",
   "metadata": {},
   "source": [
    "Разбейте данные на обучение и валидацию. Подберите параметры C, alpha, max_epoch, model_type на валидации (Вы же помните, как правильно в этой задаче делать валидацию?)"
   ]
  },
  {
   "cell_type": "code",
   "execution_count": 150,
   "metadata": {},
   "outputs": [],
   "source": [
    "differ_groups = set(groups_train)\n",
    "inds = np.arange(len(X_train))\n",
    "flag = 0\n",
    "np.random.seed(0)\n",
    "\n",
    "for group in differ_groups:\n",
    "    group_inds = inds[groups_train == group]\n",
    "    np.random.shuffle(group_inds)\n",
    "    bound = int(len(group_inds) * 0.8)\n",
    "    \n",
    "    if flag == 0:\n",
    "        x_train_ = X_train[group_inds[0:bound]]\n",
    "        x_val_ = X_train[group_inds[bound:]]\n",
    "        y_train_ = y_train[group_inds[0:bound]]\n",
    "        y_val_ = y_train[group_inds[bound:]]\n",
    "        flag = 1\n",
    "        \n",
    "    x_train_ = np.concatenate((x_train_, X_train[group_inds[0:bound]]), axis=0)\n",
    "    x_val_ = np.concatenate((x_val_, X_train[group_inds[bound:]]), axis=0)\n",
    "    y_train_ = np.concatenate((y_train_, y_train[group_inds[0:bound]]), axis=0)\n",
    "    y_val_ = np.concatenate((y_val_, y_train[group_inds[bound:]]), axis=0)"
   ]
  },
  {
   "cell_type": "code",
   "execution_count": 164,
   "metadata": {
    "scrolled": true
   },
   "outputs": [
    {
     "name": "stderr",
     "output_type": "stream",
     "text": [
      "/home/roman/.local/lib/python3.6/site-packages/numpy/core/_methods.py:38: RuntimeWarning: overflow encountered in reduce\n",
      "  return umr_sum(a, axis, dtype, out, keepdims, initial, where)\n",
      "/usr/lib/python3/dist-packages/ipykernel_launcher.py:44: RuntimeWarning: overflow encountered in double_scalars\n",
      "/usr/lib/python3/dist-packages/ipykernel_launcher.py:43: RuntimeWarning: overflow encountered in square\n",
      "/usr/lib/python3/dist-packages/ipykernel_launcher.py:63: RuntimeWarning: overflow encountered in multiply\n",
      "/usr/lib/python3/dist-packages/ipykernel_launcher.py:65: RuntimeWarning: overflow encountered in true_divide\n",
      "/usr/lib/python3/dist-packages/ipykernel_launcher.py:65: RuntimeWarning: invalid value encountered in add\n",
      "/home/roman/.local/lib/python3.6/site-packages/numpy/core/_methods.py:38: RuntimeWarning: invalid value encountered in reduce\n",
      "  return umr_sum(a, axis, dtype, out, keepdims, initial, where)\n",
      "/usr/lib/python3/dist-packages/ipykernel_launcher.py:81: RuntimeWarning: invalid value encountered in subtract\n",
      "/usr/lib/python3/dist-packages/ipykernel_launcher.py:48: RuntimeWarning: divide by zero encountered in log2\n",
      "/usr/lib/python3/dist-packages/ipykernel_launcher.py:48: RuntimeWarning: invalid value encountered in multiply\n",
      "/usr/lib/python3/dist-packages/ipykernel_launcher.py:9: RuntimeWarning: overflow encountered in exp\n",
      "  if __name__ == '__main__':\n",
      "/usr/lib/python3/dist-packages/ipykernel_launcher.py:50: RuntimeWarning: overflow encountered in double_scalars\n",
      "/usr/lib/python3/dist-packages/ipykernel_launcher.py:71: RuntimeWarning: overflow encountered in true_divide\n"
     ]
    }
   ],
   "source": [
    "C_values = np.logspace(4, -4, 100)\n",
    "alpha_values = [0.01, 0.02, 0.05, 0.001, 0.002, 0.005]\n",
    "max_epoch_values = [5, 10, 15, 25, 50]\n",
    "model_type_values = ['lin_reg', 'log_reg']\n",
    "thresholds = [0.01*i for i in range(-100, 100)]\n",
    "\n",
    "best_params = {'C': 2, 'alpha': 0.01, 'max_epoch': 10, 'model_type': 'lin_reg', 'threshold': 0.5}\n",
    "best_score = 0\n",
    "\n",
    "for model_type in model_type_values:\n",
    "    for max_epoch in max_epoch_values:\n",
    "        for alpha in alpha_values:\n",
    "            for C in C_values:\n",
    "                clsfr = MySGDClassifier(batch_generator, C=C, alpha=alpha, batch_size=500,\n",
    "                                        max_epoch=max_epoch, model_type=model_type)\n",
    "                clsfr.fit(x_train_, y_train_)\n",
    "                \n",
    "                \n",
    "                for threshold in thresholds:\n",
    "                    \n",
    "                    y_pred_ = clsfr.predict(np.c_[np.ones(x_val_.shape[0]), x_val_])\n",
    "\n",
    "                    if np.isnan(y_pred_).any():\n",
    "                        continue\n",
    "\n",
    "                    if model_type == 'lin_reg':\n",
    "                        y_pred_[y_pred_ < threshold] = 0\n",
    "                        y_pred_[y_pred_ >= threshold] = 1\n",
    "                    else:\n",
    "                        y_pred_[y_pred_ < threshold] = 0\n",
    "                        y_pred_[y_pred_ >= threshold] = 1\n",
    "\n",
    "                    score = f1_score(y_pred_, y_val_)\n",
    "\n",
    "                    if score > best_score:\n",
    "                        best_score = score\n",
    "                        best_params = {'C': C,'alpha': alpha, 'max_epoch': max_epoch,\n",
    "                                       'model_type': model_type, 'threshold': threshold}"
   ]
  },
  {
   "cell_type": "code",
   "execution_count": 165,
   "metadata": {},
   "outputs": [
    {
     "data": {
      "text/plain": [
       "({'C': 14.849682622544636,\n",
       "  'alpha': 0.02,\n",
       "  'max_epoch': 50,\n",
       "  'model_type': 'log_reg',\n",
       "  'threshold': 0.28},\n",
       " 0.6374193548387097)"
      ]
     },
     "execution_count": 165,
     "metadata": {},
     "output_type": "execute_result"
    }
   ],
   "source": [
    "best_params, best_score"
   ]
  },
  {
   "cell_type": "code",
   "execution_count": 166,
   "metadata": {},
   "outputs": [],
   "source": [
    "C, alpha, max_epoch, model_type, threshold = best_params.values()"
   ]
  },
  {
   "cell_type": "code",
   "execution_count": 167,
   "metadata": {},
   "outputs": [
    {
     "data": {
      "text/plain": [
       "0.6374193548387097"
      ]
     },
     "execution_count": 167,
     "metadata": {},
     "output_type": "execute_result"
    }
   ],
   "source": [
    "clsfr = MySGDClassifier(batch_generator, C=C, alpha=alpha, batch_size=500,\n",
    "                        max_epoch=max_epoch, model_type=model_type)\n",
    "clsfr.fit(x_train_, y_train_)\n",
    "y_pred_ = clsfr.predict(np.c_[np.ones(x_val_.shape[0]), x_val_])\n",
    "y_pred_[y_pred_ < threshold] = 0\n",
    "y_pred_[y_pred_ >= threshold] = 1\n",
    "score = f1_score(y_pred_, y_val_)\n",
    "score"
   ]
  },
  {
   "cell_type": "code",
   "execution_count": 168,
   "metadata": {},
   "outputs": [
    {
     "data": {
      "text/plain": [
       "0.6141359485965505"
      ]
     },
     "execution_count": 168,
     "metadata": {},
     "output_type": "execute_result"
    }
   ],
   "source": [
    "y_pred_tr_ = clsfr.predict(np.c_[np.ones(x_train_.shape[0]), x_train_])\n",
    "y_pred_tr_[y_pred_tr_ < threshold] = 0\n",
    "y_pred_tr_[y_pred_tr_ >= threshold] = 1\n",
    "score = f1_score(y_pred_tr_, y_train_)\n",
    "score"
   ]
  },
  {
   "cell_type": "code",
   "execution_count": 169,
   "metadata": {},
   "outputs": [
    {
     "data": {
      "text/plain": [
       "Counter({0.0: 6149, 1.0: 3235})"
      ]
     },
     "execution_count": 169,
     "metadata": {},
     "output_type": "execute_result"
    }
   ],
   "source": [
    "Counter(y_pred_tr_)"
   ]
  },
  {
   "cell_type": "markdown",
   "metadata": {
    "collapsed": true
   },
   "source": [
    "Подберите порог линейной модели, по достижении которого, Вы будете относить объект к классу 1. Вспомните, какую метрику мы оптимизируем в соревновании.  Как тогда правильно подобрать порог?"
   ]
  },
  {
   "cell_type": "code",
   "execution_count": 136,
   "metadata": {},
   "outputs": [],
   "source": [
    "import sklearn.metrics as metrics"
   ]
  },
  {
   "cell_type": "code",
   "execution_count": 170,
   "metadata": {},
   "outputs": [
    {
     "data": {
      "image/png": "[encoded data removed]",
      "text/plain": [
       "<Figure size 576x576 with 1 Axes>"
      ]
     },
     "metadata": {},
     "output_type": "display_data"
    }
   ],
   "source": [
    "y_pred_ = clsfr.predict(np.c_[np.ones(x_val_.shape[0]), x_val_])\n",
    "fpr, tpr, thr = metrics.roc_curve(y_val_, y_pred_)\n",
    "roc_auc = metrics.auc(fpr, tpr)\n",
    "\n",
    "fig = plt.figure(figsize=(8,8))\n",
    "plt.title('Receiver Operating Characteristic')\n",
    "plt.plot(fpr, tpr, 'b', label = 'AUC = %0.2f' % roc_auc)\n",
    "plt.legend(loc = 'lower right')\n",
    "plt.plot([0, 1], [0, 1],'r--')\n",
    "plt.xlim([0, 1])\n",
    "plt.ylim([0, 1])\n",
    "plt.ylabel('True Positive Rate')\n",
    "plt.xlabel('False Positive Rate')\n",
    "plt.show()"
   ]
  },
  {
   "cell_type": "code",
   "execution_count": 171,
   "metadata": {},
   "outputs": [
    {
     "data": {
      "text/plain": [
       "(0.7514518061109143, 0.28)"
      ]
     },
     "execution_count": 171,
     "metadata": {},
     "output_type": "execute_result"
    }
   ],
   "source": [
    "thresholds = [0.01*i for i in range(-100, 100)]\n",
    "best_roc_auc = 0\n",
    "best_threshold = 0.5\n",
    "\n",
    "for threshold in thresholds:\n",
    "    y_pred_ = clsfr.predict(np.c_[np.ones(x_val_.shape[0]), x_val_])\n",
    "    y_pred_[y_pred_ < threshold] = 0\n",
    "    y_pred_[y_pred_ >= threshold] = 1\n",
    "    fpr, tpr, thr = metrics.roc_curve(y_val_, y_pred_)\n",
    "    roc_auc = metrics.auc(fpr, tpr)\n",
    "    \n",
    "    if roc_auc > best_roc_auc:\n",
    "        best_roc_auc = roc_auc\n",
    "        best_threshold = threshold\n",
    "        \n",
    "best_roc_auc, best_threshold"
   ]
  },
  {
   "cell_type": "code",
   "execution_count": 172,
   "metadata": {},
   "outputs": [
    {
     "data": {
      "image/png": "[encoded data removed]",
      "text/plain": [
       "<Figure size 576x576 with 1 Axes>"
      ]
     },
     "metadata": {},
     "output_type": "display_data"
    }
   ],
   "source": [
    "y_pred_ = clsfr.predict(np.c_[np.ones(x_val_.shape[0]), x_val_])\n",
    "y_pred_[y_pred_ < best_threshold] = 0\n",
    "y_pred_[y_pred_ >= best_threshold] = 1\n",
    "\n",
    "fpr, tpr, thr = metrics.roc_curve(y_val_, y_pred_)\n",
    "roc_auc = metrics.auc(fpr, tpr)\n",
    "\n",
    "fig = plt.figure(figsize=(8,8))\n",
    "plt.title('Receiver Operating Characteristic')\n",
    "plt.plot(fpr, tpr, 'b', label = 'AUC = %0.2f' % roc_auc)\n",
    "plt.legend(loc = 'lower right')\n",
    "plt.plot([0, 1], [0, 1],'r--')\n",
    "plt.xlim([0, 1])\n",
    "plt.ylim([0, 1])\n",
    "plt.ylabel('True Positive Rate')\n",
    "plt.xlabel('False Positive Rate')\n",
    "plt.show()"
   ]
  },
  {
   "cell_type": "markdown",
   "metadata": {},
   "source": [
    "С лучшими параметрами на валидации сделайте предсказание на тестовом множестве, отправьте его на проверку на платформу kaggle. Убедитесь, что Вы смогли побить public score первого бейзлайна."
   ]
  },
  {
   "cell_type": "code",
   "execution_count": 140,
   "metadata": {},
   "outputs": [],
   "source": [
    "test_data = pd.read_csv('test_groups.csv')\n",
    "testgroups_titledata = {}\n",
    "\n",
    "for i in range(len(test_data)):\n",
    "    new_doc = test_data.iloc[i]\n",
    "    pair_id = new_doc['pair_id']\n",
    "    doc_group = new_doc['group_id']\n",
    "    doc_id = new_doc['doc_id']\n",
    "    title = doc_to_title[doc_id]\n",
    "    \n",
    "    if doc_group not in testgroups_titledata:\n",
    "        testgroups_titledata[doc_group] = []\n",
    "        \n",
    "    testgroups_titledata[doc_group].append((pair_id, doc_id, title))"
   ]
  },
  {
   "cell_type": "code",
   "execution_count": 141,
   "metadata": {},
   "outputs": [
    {
     "name": "stdout",
     "output_type": "stream",
     "text": [
      "(16627, 15) (16627,) (16627,)\n"
     ]
    }
   ],
   "source": [
    "y_test = []\n",
    "X_test = []\n",
    "groups_test = []\n",
    "pair_id_test = []\n",
    "\n",
    "for new_group in testgroups_titledata:\n",
    "    docs = testgroups_titledata[new_group]\n",
    "    \n",
    "    for k, (pair_id, doc_id, title) in enumerate(docs):\n",
    "        groups_test.append(new_group)\n",
    "        pair_id_test.append(pair_id)\n",
    "        all_dist = []\n",
    "        words = set(title.strip().split())\n",
    "        \n",
    "        for j in range(0, len(docs)):\n",
    "            if k == j:\n",
    "                continue\n",
    "            pair_id_j, doc_id_j, title_j = docs[j]\n",
    "            words_j = set(title_j.strip().split())\n",
    "            all_dist.append(len(words.intersection(words_j)))\n",
    "            \n",
    "        X_test.append(sorted(all_dist, reverse=True)[0:15])\n",
    "        \n",
    "X_test = np.array(X_test)\n",
    "groups_test = np.array(groups_test)\n",
    "pair_id_test = np.array(pair_id_test)\n",
    "print (X_test.shape, groups_test.shape, pair_id_test.shape)"
   ]
  },
  {
   "cell_type": "code",
   "execution_count": 142,
   "metadata": {},
   "outputs": [],
   "source": [
    "X_test = st_sc.transform(X_test)"
   ]
  },
  {
   "cell_type": "code",
   "execution_count": 173,
   "metadata": {},
   "outputs": [
    {
     "data": {
      "text/plain": [
       "Counter({0.0: 10906, 1.0: 5721})"
      ]
     },
     "execution_count": 173,
     "metadata": {},
     "output_type": "execute_result"
    }
   ],
   "source": [
    "from collections import Counter\n",
    "y_pred_test = clsfr.predict(np.c_[np.ones(X_test.shape[0]), X_test])\n",
    "y_pred_test[y_pred_test < best_threshold] = 0\n",
    "y_pred_test[y_pred_test >= best_threshold] = 1\n",
    "Counter(y_pred_test)"
   ]
  },
  {
   "cell_type": "code",
   "execution_count": 174,
   "metadata": {},
   "outputs": [],
   "source": [
    "file = open('submissions.csv', 'w')\n",
    "file.write('pair_id,target\\n')\n",
    "for i in range(len(y_pred_test)):\n",
    "    file.write(str(pair_id_test[i]) + ',' + str(int(y_pred_test[i])) + '\\n')\n",
    "file.close()"
   ]
  },
  {
   "cell_type": "code",
   "execution_count": 177,
   "metadata": {},
   "outputs": [],
   "source": [
    "file = open('best_params.txt', 'w')\n",
    "for pair in best_params.items():\n",
    "    file.write(str(pair) + '\\n')\n",
    "file.close()"
   ]
  },
  {
   "cell_type": "markdown",
   "metadata": {
    "collapsed": true
   },
   "source": [
    "** При сдаче домашки Вам необходимо кроме ссылки на ноутбук показать Ваш ник на kaggle, под которым Вы залили решение, которое побило Handmade baseline. **"
   ]
  },
  {
   "cell_type": "code",
   "execution_count": 36,
   "metadata": {},
   "outputs": [],
   "source": [
    "# ник: rbichaev"
   ]
  },
  {
   "cell_type": "markdown",
   "metadata": {},
   "source": [
    "# Фидбек (бесценно)"
   ]
  },
  {
   "cell_type": "markdown",
   "metadata": {},
   "source": [
    "* Какие аспекты обучения линейных моделей Вам показались непонятными? Какое место стоит дополнительно объяснить?"
   ]
  },
  {
   "cell_type": "markdown",
   "metadata": {},
   "source": [
    "-"
   ]
  },
  {
   "cell_type": "markdown",
   "metadata": {},
   "source": [
    "* Здесь Вы можете оставить отзыв о этой домашней работе или о всем курсе.   "
   ]
  },
  {
   "cell_type": "markdown",
   "metadata": {},
   "source": [
    "*** не нужно давать два домашних задания на две недели с ПЕРЕСЕЧЕНИЕМ в неделю ***"
   ]
  },
  {
   "cell_type": "code",
   "execution_count": null,
   "metadata": {},
   "outputs": [],
   "source": []
  },
  {
   "cell_type": "code",
   "execution_count": null,
   "metadata": {},
   "outputs": [],
   "source": []
  }
 ],
 "metadata": {
  "anaconda-cloud": {},
  "kernelspec": {
   "display_name": "Python 3",
   "language": "python",
   "name": "python3"
  },
  "language_info": {
   "codemirror_mode": {
    "name": "ipython",
    "version": 3
   },
   "file_extension": ".py",
   "mimetype": "text/x-python",
   "name": "python",
   "nbconvert_exporter": "python",
   "pygments_lexer": "ipython3",
   "version": "3.6.9"
  },
  "nav_menu": {},
  "toc": {
   "colors": {
    "hover_highlight": "#DAA520",
    "navigate_num": "#000000",
    "navigate_text": "#333333",
    "running_highlight": "#FF0000",
    "selected_highlight": "#FFD700",
    "sidebar_border": "#EEEEEE",
    "wrapper_background": "#FFFFFF"
   },
   "moveMenuLeft": true,
   "nav_menu": {
    "height": "402px",
    "width": "253px"
   },
   "navigate_menu": true,
   "number_sections": false,
   "sideBar": true,
   "threshold": 4,
   "toc_cell": false,
   "toc_section_display": "block",
   "toc_window_display": true,
   "widenNotebook": false
  }
 },
 "nbformat": 4,
 "nbformat_minor": 2
}
